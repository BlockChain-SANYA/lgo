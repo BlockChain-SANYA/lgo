{
 "cells": [
  {
   "cell_type": "markdown",
   "metadata": {},
   "source": [
    "# <span style=\"color:red\">Open</span>: interface is not working\n",
    "If you invoke a method through an interface in lgo, it crashes with `runtime error: invalid memory address or nil pointer dereference` ([bug](https://github.com/yunabe/lgo/issues/3))."
   ]
  },
  {
   "cell_type": "code",
   "execution_count": 1,
   "metadata": {},
   "outputs": [
    {
     "name": "stdout",
     "output_type": "stream",
     "text": [
      "---- 1 ----\n",
      "Hello, I'm yunabe.\n",
      "---- 2 ----\n"
     ]
    },
    {
     "name": "stderr",
     "output_type": "stream",
     "text": [
      "panic: runtime error: invalid memory address or nil pointer dereference\n",
      "\n",
      "goroutine 12 [running]:\n",
      "runtime/debug.Stack(0xc420457590, 0x7f44e3bd90c0, 0x7f44e3fe8460)\n",
      "\t/usr/local/go/src/runtime/debug/stack.go:24 +0xa9\n",
      "main.(*handlers).HandleExecuteRequest.func3.1()\n",
      "\t/go/src/github.com/yunabe/lgo/cmd/lgo-internal/kernel.go:95 +0x70\n",
      "panic(0x7f44e3bd90c0, 0x7f44e3fe8460)\n",
      "\t/usr/local/go/src/runtime/panic.go:491 +0x294\n",
      "github.com/yunabe/lgo/cmd/runner.loadShared.func1(0xc420457990)\n",
      "\t/go/src/github.com/yunabe/lgo/cmd/runner/runner.go:34 +0x108\n",
      "panic(0x7f44e3bd90c0, 0x7f44e3fe8460)\n",
      "\t/usr/local/go/src/runtime/panic.go:491 +0x294\n",
      "github.com/yunabe/lgo/sess7b2274696d65223a313530373938363037303439313832313338357d/exec1.lgo_init()\n",
      "\t/go/src/github.com/yunabe/lgo/sess7b2274696d65223a313530373938363037303439313832313338357d/exec1/src.go:25 +0x1af\n",
      "github.com/yunabe/lgo/cmd/runner.loadSharedInternal(0xc420333ba0, 0x8, 0xc4203dc120, 0x58)\n",
      "\t/go/src/github.com/yunabe/lgo/cmd/runner/runner.go:63 +0x2da\n",
      "github.com/yunabe/lgo/cmd/runner.loadShared(0x7f44e4010e40, 0xc4203e4080, 0xc420333ba0, 0x8, 0xc4203dc120, 0x58, 0x0)\n",
      "\t/go/src/github.com/yunabe/lgo/cmd/runner/runner.go:37 +0xab\n",
      "github.com/yunabe/lgo/cmd/runner.(*LgoRunner).Run(0xc42032e400, 0x7f44e4010e40, 0xc4203e4080, 0xc420428000, 0x12a, 0x140, 0xc420412020, 0xc420410050)\n",
      "\t/go/src/github.com/yunabe/lgo/cmd/runner/runner.go:159 +0xc41\n",
      "main.(*handlers).HandleExecuteRequest.func3(0xc420457e00, 0xc4200107b0, 0x7f44e4010e40, 0xc4203e4080, 0xc42000d660)\n",
      "\t/go/src/github.com/yunabe/lgo/cmd/lgo-internal/kernel.go:99 +0x9b\n",
      "main.(*handlers).HandleExecuteRequest(0xc4200107b0, 0x7f44e4010e40, 0xc4203e4080, 0xc42000d660, 0xc420414080, 0xc4204140a0, 0x0)\n",
      "\t/go/src/github.com/yunabe/lgo/cmd/lgo-internal/kernel.go:102 +0x39b\n",
      "github.com/yunabe/lgo/jupyter/gojupyterscaffold.(*executeQueue).loop(0xc42032e580)\n",
      "\t/go/src/github.com/yunabe/lgo/jupyter/gojupyterscaffold/execute.go:97 +0x34d\n",
      "github.com/yunabe/lgo/jupyter/gojupyterscaffold.(*Server).Loop.func2(0xc42036e4e0, 0xc420378360)\n",
      "\t/go/src/github.com/yunabe/lgo/jupyter/gojupyterscaffold/gojupyterscaffold.go:190 +0x31\n",
      "created by github.com/yunabe/lgo/jupyter/gojupyterscaffold.(*Server).Loop\n",
      "\t/go/src/github.com/yunabe/lgo/jupyter/gojupyterscaffold/gojupyterscaffold.go:189 +0xed\n"
     ]
    }
   ],
   "source": [
    "import (\n",
    "    \"fmt\"\n",
    ")\n",
    "\n",
    "type Hello interface {\n",
    "    SayHello()\n",
    "}\n",
    "\n",
    "type person struct {\n",
    "    name string\n",
    "}\n",
    "\n",
    "func (p *person) SayHello() {\n",
    "    fmt.Printf(\"Hello, I'm %s.\\n\", p.name)\n",
    "}\n",
    "\n",
    "p := person{\"yunabe\"}\n",
    "fmt.Println(\"---- 1 ----\")\n",
    "p.SayHello()\n",
    "\n",
    "var h Hello = &p\n",
    "fmt.Println(\"---- 2 ----\")\n",
    "h.SayHello()"
   ]
  },
  {
   "cell_type": "markdown",
   "metadata": {},
   "source": [
    "# <span style=\"color:red\">Open</span>: GC crashes with a fatal error\n",
    "The following crashes with `fatal error: found bad pointer in Go heap (incorrect use of unsafe or cgo?)` message ([bug](https://github.com/yunabe/lgo/issues/2))."
   ]
  },
  {
   "cell_type": "code",
   "execution_count": null,
   "metadata": {},
   "outputs": [],
   "source": [
    "import (\n",
    "    \"fmt\"\n",
    "    \"log\"\n",
    "    \"runtime\"\n",
    ")\n",
    "\n",
    "type MyData struct {\n",
    "    b []byte\n",
    "}\n",
    "\n",
    "func (m *MyData) Size() int {\n",
    "    return len(m.b)\n",
    "}\n",
    "\n",
    "func NewMyData() *MyData {\n",
    "    return &MyData{\n",
    "        b: make([]byte, 10 * (1 << 20)),\n",
    "    }\n",
    "}\n",
    "\n",
    "var l []*MyData\n",
    "for i := 0; i < 100; i++ {\n",
    "    d := NewMyData()\n",
    "    l = append(l, d)\n",
    "}\n",
    "l = nil\n",
    "runtime.GC()"
   ]
  }
 ],
 "metadata": {
  "kernelspec": {
   "display_name": "Go (lgo)",
   "language": "go",
   "name": "lgo"
  },
  "language_info": {
   "file_extension": "",
   "mimetype": "",
   "name": "go",
   "version": ""
  }
 },
 "nbformat": 4,
 "nbformat_minor": 2
}
