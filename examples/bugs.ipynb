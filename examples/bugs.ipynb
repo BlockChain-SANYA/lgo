{
 "cells": [
  {
   "cell_type": "markdown",
   "metadata": {},
   "source": [
    "# <span style=\"color:red\">Open</span>: goroutines should be canceled when the main routine ends\n",
    "- [bug](https://github.com/yunabe/lgo/issues/6)"
   ]
  },
  {
   "cell_type": "code",
   "execution_count": null,
   "metadata": {},
   "outputs": [],
   "source": [
    "i := 0\n",
    "go func() {\n",
    "    for i = 0;; i++ {}\n",
    "}()"
   ]
  },
  {
   "cell_type": "markdown",
   "metadata": {},
   "source": [
    "# <span style=\"color:red\">Open</span>: The entire process terminated when a go routine panics\n",
    "- [bug](https://github.com/yunabe/lgo/issues/5)"
   ]
  },
  {
   "cell_type": "code",
   "execution_count": null,
   "metadata": {},
   "outputs": [],
   "source": [
    "go func() {\n",
    "    panic(\"die!\")\n",
    "}()"
   ]
  },
  {
   "cell_type": "markdown",
   "metadata": {},
   "source": [
    "# <span style=\"color:green\">Fixed</span>: interface is not working\n",
    "If you invoke a method through an interface in lgo, it crashes with `runtime error: invalid memory address or nil pointer dereference` ([bug](https://github.com/yunabe/lgo/issues/3))."
   ]
  },
  {
   "cell_type": "code",
   "execution_count": 1,
   "metadata": {},
   "outputs": [
    {
     "name": "stdout",
     "output_type": "stream",
     "text": [
      "---- 1 ----\n",
      "Hello, I'm yunabe.\n",
      "---- 2 ----\n",
      "Hello, I'm yunabe.\n"
     ]
    }
   ],
   "source": [
    "import (\n",
    "    \"fmt\"\n",
    ")\n",
    "\n",
    "type Hello interface {\n",
    "    SayHello()\n",
    "}\n",
    "\n",
    "type person struct {\n",
    "    name string\n",
    "}\n",
    "\n",
    "func (p *person) SayHello() {\n",
    "    fmt.Printf(\"Hello, I'm %s.\\n\", p.name)\n",
    "}\n",
    "\n",
    "p := person{\"yunabe\"}\n",
    "fmt.Println(\"---- 1 ----\")\n",
    "p.SayHello()\n",
    "\n",
    "var h Hello = &p\n",
    "fmt.Println(\"---- 2 ----\")\n",
    "h.SayHello()"
   ]
  },
  {
   "cell_type": "markdown",
   "metadata": {},
   "source": [
    "# <span style=\"color:green\">Fixed</span>: GC crashes with a fatal error\n",
    "The following crashes with `fatal error: found bad pointer in Go heap (incorrect use of unsafe or cgo?)` message ([bug](https://github.com/yunabe/lgo/issues/2))."
   ]
  },
  {
   "cell_type": "code",
   "execution_count": 1,
   "metadata": {},
   "outputs": [],
   "source": [
    "import (\n",
    "    \"fmt\"\n",
    "    \"log\"\n",
    "    \"runtime\"\n",
    "    \"runtime/debug\"\n",
    ")\n",
    "\n",
    "type MyData struct {\n",
    "    b []byte\n",
    "}\n",
    "\n",
    "func (m *MyData) Size() int {\n",
    "    return len(m.b)\n",
    "}\n",
    "\n",
    "func NewMyData() *MyData {\n",
    "    return &MyData{\n",
    "        b: make([]byte, 10 * (1 << 20)),\n",
    "    }\n",
    "}\n",
    "\n",
    "var l []*MyData\n",
    "for i := 0; i < 100; i++ {\n",
    "    d := NewMyData()\n",
    "    l = append(l, d)\n",
    "}\n",
    "l = nil\n",
    "debug.FreeOSMemory()\n",
    "runtime.GC()"
   ]
  }
 ],
 "metadata": {
  "kernelspec": {
   "display_name": "Go (lgo)",
   "language": "go",
   "name": "lgo"
  },
  "language_info": {
   "file_extension": "",
   "mimetype": "",
   "name": "go",
   "version": ""
  }
 },
 "nbformat": 4,
 "nbformat_minor": 2
}
