{
 "cells": [
  {
   "cell_type": "markdown",
   "metadata": {},
   "source": [
    "# Simple functions"
   ]
  },
  {
   "cell_type": "code",
   "execution_count": 1,
   "metadata": {},
   "outputs": [],
   "source": [
    "func naiveFib(n int) int {\n",
    "    if n > 1 {\n",
    "        return naiveFib(n - 1) + naiveFib(n - 2)\n",
    "    }\n",
    "    return 1\n",
    "}"
   ]
  },
  {
   "cell_type": "code",
   "execution_count": 2,
   "metadata": {},
   "outputs": [
    {
     "name": "stdout",
     "output_type": "stream",
     "text": [
      "10946\n"
     ]
    }
   ],
   "source": [
    "naiveFib(20)"
   ]
  },
  {
   "cell_type": "markdown",
   "metadata": {},
   "source": [
    "# Use standard libraries"
   ]
  },
  {
   "cell_type": "code",
   "execution_count": 3,
   "metadata": {},
   "outputs": [],
   "source": [
    "import (\n",
    "    \"fmt\"\n",
    "    \"math\"\n",
    ")"
   ]
  },
  {
   "cell_type": "code",
   "execution_count": 4,
   "metadata": {},
   "outputs": [
    {
     "name": "stdout",
     "output_type": "stream",
     "text": [
      "sin(pi/3) == 0.866025\n",
      "cos(pi/3) == 0.500000\n",
      "sqrt(3)/2 == 0.866025\n",
      "log(e^2) == 2.000000\n",
      "21\n",
      "<nil>\n"
     ]
    }
   ],
   "source": [
    "fmt.Printf(\"sin(pi/3) == %f\\n\", math.Sin(math.Pi/3))\n",
    "fmt.Printf(\"cos(pi/3) == %f\\n\", math.Cos(math.Pi/3))\n",
    "fmt.Printf(\"sqrt(3)/2 == %f\\n\", math.Sqrt(3)/2)\n",
    "fmt.Printf(\"log(e^2) == %f\\n\", math.Log(math.E * math.E))"
   ]
  },
  {
   "cell_type": "markdown",
   "metadata": {},
   "source": [
    "# Non-deterministic code"
   ]
  },
  {
   "cell_type": "code",
   "execution_count": 5,
   "metadata": {},
   "outputs": [],
   "source": [
    "import (\n",
    "    \"math/rand\"\n",
    "    \"time\"\n",
    ")"
   ]
  },
  {
   "cell_type": "code",
   "execution_count": 6,
   "metadata": {},
   "outputs": [
    {
     "name": "stdout",
     "output_type": "stream",
     "text": [
      "5577006791947779410\n"
     ]
    }
   ],
   "source": [
    "r := rand.Int()\n",
    "r"
   ]
  },
  {
   "cell_type": "code",
   "execution_count": 7,
   "metadata": {},
   "outputs": [
    {
     "name": "stdout",
     "output_type": "stream",
     "text": [
      "410\n"
     ]
    }
   ],
   "source": [
    "r % 1000"
   ]
  },
  {
   "cell_type": "code",
   "execution_count": 8,
   "metadata": {},
   "outputs": [
    {
     "name": "stdout",
     "output_type": "stream",
     "text": [
      "2017-10-09 06:24:33.339794746 +0000 UTC m=+4.617622762\n"
     ]
    }
   ],
   "source": [
    "start := time.Now()\n",
    "start"
   ]
  },
  {
   "cell_type": "code",
   "execution_count": 9,
   "metadata": {},
   "outputs": [
    {
     "name": "stdout",
     "output_type": "stream",
     "text": [
      "2017-10-09 06:24:33.977383677 +0000 UTC m=+5.255211693\n"
     ]
    }
   ],
   "source": [
    "end := time.Now()\n",
    "end"
   ]
  },
  {
   "cell_type": "code",
   "execution_count": 10,
   "metadata": {},
   "outputs": [
    {
     "name": "stdout",
     "output_type": "stream",
     "text": [
      "end - start = 637.588931ms26\n",
      "<nil>\n"
     ]
    }
   ],
   "source": [
    "fmt.Printf(\"end - start = %v\", end.Sub(start))"
   ]
  },
  {
   "cell_type": "markdown",
   "metadata": {},
   "source": [
    "# struct and type"
   ]
  },
  {
   "cell_type": "code",
   "execution_count": 11,
   "metadata": {},
   "outputs": [],
   "source": [
    "type person struct {\n",
    "    name string\n",
    "    age int\n",
    "}\n",
    "\n",
    "\n",
    "func (p *person) Hello() string {\n",
    "    return fmt.Sprintf(\"Hello! Name: %s, Age: %d\", p.name, p.age)\n",
    "}"
   ]
  },
  {
   "cell_type": "code",
   "execution_count": 12,
   "metadata": {},
   "outputs": [
    {
     "name": "stdout",
     "output_type": "stream",
     "text": [
      "Hello! Name: Alice, Age: 12\n"
     ]
    }
   ],
   "source": [
    "p := person{\"Alice\", 12}\n",
    "p.Hello()"
   ]
  },
  {
   "cell_type": "code",
   "execution_count": 13,
   "metadata": {},
   "outputs": [
    {
     "name": "stdout",
     "output_type": "stream",
     "text": [
      "h == &{Alice 12}\n",
      "type assertion ok: Hello! Name: Alice, Age: 12\n"
     ]
    }
   ],
   "source": [
    "type hello interface {\n",
    "    Hello() string\n",
    "}\n",
    "\n",
    "func printHello(h hello) {\n",
    "    fmt.Println(\"h ==\", h)\n",
    "    p, ok := h.(*person)\n",
    "    if ok {\n",
    "        fmt.Println(\"type assertion ok:\", p.Hello())\n",
    "    }\n",
    "    // This does not work.\n",
    "    // fmt.Println(h.Hello())\n",
    "}\n",
    "\n",
    "p := person{\"Alice\", 12}\n",
    "printHello(&p)"
   ]
  }
 ],
 "metadata": {
  "kernelspec": {
   "display_name": "Go (lgo)",
   "language": "go",
   "name": "lgo"
  },
  "language_info": {
   "file_extension": "",
   "mimetype": "",
   "name": "go",
   "version": ""
  }
 },
 "nbformat": 4,
 "nbformat_minor": 2
}
