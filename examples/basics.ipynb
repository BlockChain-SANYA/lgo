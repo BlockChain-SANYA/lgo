{
 "cells": [
  {
   "cell_type": "code",
   "execution_count": 1,
   "metadata": {},
   "outputs": [],
   "source": [
    "import (\n",
    "    \"fmt\"\n",
    ")"
   ]
  },
  {
   "cell_type": "markdown",
   "metadata": {},
   "source": [
    "# Simple functions"
   ]
  },
  {
   "cell_type": "code",
   "execution_count": 2,
   "metadata": {},
   "outputs": [],
   "source": [
    "func naiveFib(n int) int {\n",
    "    if n > 1 {\n",
    "        return naiveFib(n - 1) + naiveFib(n - 2)\n",
    "    }\n",
    "    return 1\n",
    "}"
   ]
  },
  {
   "cell_type": "code",
   "execution_count": 3,
   "metadata": {},
   "outputs": [
    {
     "name": "stdout",
     "output_type": "stream",
     "text": [
      "10946\n"
     ]
    }
   ],
   "source": [
    "naiveFib(20)"
   ]
  },
  {
   "cell_type": "markdown",
   "metadata": {},
   "source": [
    "# if, for, etc.."
   ]
  },
  {
   "cell_type": "code",
   "execution_count": 4,
   "metadata": {},
   "outputs": [
    {
     "name": "stdout",
     "output_type": "stream",
     "text": [
      "n is positive: 10\n"
     ]
    }
   ],
   "source": [
    "n := 10\n",
    "\n",
    "if n > 0 {\n",
    "    fmt.Println(\"n is positive:\", n)\n",
    "} else {\n",
    "    fmt.Println(\"n is not positive:\", n)\n",
    "}"
   ]
  },
  {
   "cell_type": "code",
   "execution_count": 5,
   "metadata": {},
   "outputs": [
    {
     "name": "stdout",
     "output_type": "stream",
     "text": [
      "55\n"
     ]
    }
   ],
   "source": [
    "sum := 0\n",
    "for i := 1; i <= n; i++ {\n",
    "    sum += i\n",
    "}\n",
    "sum"
   ]
  },
  {
   "cell_type": "code",
   "execution_count": 6,
   "metadata": {},
   "outputs": [
    {
     "name": "stdout",
     "output_type": "stream",
     "text": [
      "OK\n"
     ]
    }
   ],
   "source": [
    "switch sum {\n",
    "case 55:\n",
    "    fmt.Println(\"OK\")\n",
    "default:\n",
    "    fmt.Println(\"Fail\")\n",
    "}"
   ]
  },
  {
   "cell_type": "markdown",
   "metadata": {},
   "source": [
    "# Use standard libraries"
   ]
  },
  {
   "cell_type": "code",
   "execution_count": 7,
   "metadata": {},
   "outputs": [],
   "source": [
    "import (\n",
    "    \"fmt\"\n",
    "    \"math\"\n",
    ")"
   ]
  },
  {
   "cell_type": "code",
   "execution_count": 8,
   "metadata": {},
   "outputs": [
    {
     "name": "stdout",
     "output_type": "stream",
     "text": [
      "sin(pi/3) == 0.866025\n",
      "cos(pi/3) == 0.500000\n",
      "sqrt(3)/2 == 0.866025\n",
      "log(e^2) == 2.000000\n",
      "21\n",
      "<nil>\n"
     ]
    }
   ],
   "source": [
    "fmt.Printf(\"sin(pi/3) == %f\\n\", math.Sin(math.Pi/3))\n",
    "fmt.Printf(\"cos(pi/3) == %f\\n\", math.Cos(math.Pi/3))\n",
    "fmt.Printf(\"sqrt(3)/2 == %f\\n\", math.Sqrt(3)/2)\n",
    "fmt.Printf(\"log(e^2) == %f\\n\", math.Log(math.E * math.E))"
   ]
  },
  {
   "cell_type": "markdown",
   "metadata": {},
   "source": [
    "# Non-deterministic code"
   ]
  },
  {
   "cell_type": "code",
   "execution_count": 9,
   "metadata": {},
   "outputs": [],
   "source": [
    "import (\n",
    "    \"math/rand\"\n",
    "    \"time\"\n",
    ")"
   ]
  },
  {
   "cell_type": "code",
   "execution_count": 10,
   "metadata": {},
   "outputs": [
    {
     "name": "stdout",
     "output_type": "stream",
     "text": [
      "636250466556259171\n"
     ]
    }
   ],
   "source": [
    "rand.Seed(time.Now().UnixNano())\n",
    "r := rand.Int()\n",
    "r"
   ]
  },
  {
   "cell_type": "code",
   "execution_count": 11,
   "metadata": {},
   "outputs": [
    {
     "name": "stdout",
     "output_type": "stream",
     "text": [
      "9171\n"
     ]
    }
   ],
   "source": [
    "r % 10000"
   ]
  },
  {
   "cell_type": "code",
   "execution_count": 12,
   "metadata": {},
   "outputs": [
    {
     "name": "stdout",
     "output_type": "stream",
     "text": [
      "2017-10-16 13:17:47.637999781 +0000 UTC m=+6.138424087\n"
     ]
    }
   ],
   "source": [
    "start := time.Now()\n",
    "start"
   ]
  },
  {
   "cell_type": "code",
   "execution_count": 13,
   "metadata": {},
   "outputs": [
    {
     "name": "stdout",
     "output_type": "stream",
     "text": [
      "2017-10-16 13:17:48.311503905 +0000 UTC m=+6.811928266\n"
     ]
    }
   ],
   "source": [
    "end := time.Now()\n",
    "end"
   ]
  },
  {
   "cell_type": "code",
   "execution_count": 14,
   "metadata": {},
   "outputs": [
    {
     "name": "stdout",
     "output_type": "stream",
     "text": [
      "end - start = 673.504179ms26\n",
      "<nil>\n"
     ]
    }
   ],
   "source": [
    "fmt.Printf(\"end - start = %v\", end.Sub(start))"
   ]
  },
  {
   "cell_type": "markdown",
   "metadata": {},
   "source": [
    "# struct and interface"
   ]
  },
  {
   "cell_type": "code",
   "execution_count": 15,
   "metadata": {},
   "outputs": [],
   "source": [
    "type person struct {\n",
    "    name string\n",
    "    age int\n",
    "}\n",
    "\n",
    "func (p *person) Hello() string {\n",
    "    return fmt.Sprintf(\"Hello! Name: %s, Age: %d\", p.name, p.age)\n",
    "}"
   ]
  },
  {
   "cell_type": "code",
   "execution_count": 16,
   "metadata": {},
   "outputs": [
    {
     "name": "stdout",
     "output_type": "stream",
     "text": [
      "p.name = \"Alice\"\n",
      "p.Hello() == \"Hello! Name: Alice, Age: 12\"\n",
      "43\n",
      "<nil>\n"
     ]
    }
   ],
   "source": [
    "p := person{\"Alice\", 12}\n",
    "fmt.Printf(\"p.name = %q\\n\", p.name)\n",
    "fmt.Printf(\"p.Hello() == %q\\n\", p.Hello())"
   ]
  },
  {
   "cell_type": "code",
   "execution_count": 17,
   "metadata": {},
   "outputs": [
    {
     "name": "stdout",
     "output_type": "stream",
     "text": [
      "h is *person\n",
      "h.Hello() == \"Hello! Name: Alice, Age: 12\"\n"
     ]
    }
   ],
   "source": [
    "type hello interface {\n",
    "    Hello() string\n",
    "}\n",
    "\n",
    "func printHello(h hello) {\n",
    "    if _, ok := h.(*person); ok {\n",
    "        fmt.Println(\"h is *person\")\n",
    "    }\n",
    "    fmt.Printf(\"h.Hello() == %q\\n\", h.Hello())\n",
    "}\n",
    "\n",
    "p := person{\"Alice\", 12}\n",
    "printHello(&p)"
   ]
  },
  {
   "cell_type": "markdown",
   "metadata": {},
   "source": [
    "# Pass interfaces to standard libraries"
   ]
  },
  {
   "cell_type": "code",
   "execution_count": 18,
   "metadata": {},
   "outputs": [
    {
     "name": "stdout",
     "output_type": "stream",
     "text": [
      "Read 'H'\n",
      "Read 'e'\n",
      "Read 'l'\n",
      "Read 'l'\n",
      "Read 'o'\n",
      "Read '!'\n",
      "buf == \"Hello!\"\n"
     ]
    }
   ],
   "source": [
    "import (\n",
    "    \"bytes\"\n",
    "    \"fmt\"\n",
    "    \"io\"\n",
    ")\n",
    "\n",
    "type myReader struct {\n",
    "    content string\n",
    "    idx int\n",
    "}\n",
    "\n",
    "func (r *myReader) Read(p []byte) (n int, err error) {\n",
    "    if len(p) == 0 {\n",
    "        return 0, nil\n",
    "    }\n",
    "    if r.idx >= len(r.content) {\n",
    "        return 0, io.EOF\n",
    "    }\n",
    "    p[0] = r.content[r.idx]\n",
    "    fmt.Printf(\"Read %q\\n\", r.content[r.idx])\n",
    "    r.idx++\n",
    "    return 1, nil\n",
    "}\n",
    "\n",
    "(func(){\n",
    "    r := myReader{content: \"Hello!\"}\n",
    "    var buf bytes.Buffer\n",
    "    io.Copy(&buf, &r)\n",
    "    fmt.Printf(\"buf == %q\\n\", buf.String())\n",
    "})()"
   ]
  },
  {
   "cell_type": "markdown",
   "metadata": {},
   "source": [
    "# channel and goroutine"
   ]
  },
  {
   "cell_type": "code",
   "execution_count": 19,
   "metadata": {},
   "outputs": [
    {
     "name": "stdout",
     "output_type": "stream",
     "text": [
      "i == 0\n",
      "i == 1\n",
      "i == 4\n",
      "i == 9\n",
      "i == 16\n",
      "i == 25\n",
      "i == 36\n",
      "i == 49\n",
      "i == 64\n",
      "i == 81\n"
     ]
    }
   ],
   "source": [
    "import \"fmt\"\n",
    "\n",
    "(func(){\n",
    "    done := make(chan struct{})\n",
    "    ch := make(chan int)\n",
    "    // producer\n",
    "    go func(){\n",
    "        for i := 0; i < 10; i++ {\n",
    "            ch <- i * i\n",
    "        }\n",
    "        close(ch)\n",
    "    }()\n",
    "    // consumer\n",
    "    go func() {\n",
    "        for i := range ch {\n",
    "            fmt.Printf(\"i == %d\\n\", i)\n",
    "        }\n",
    "        close(done)\n",
    "    }()\n",
    "    <-done\n",
    "})()"
   ]
  },
  {
   "cell_type": "markdown",
   "metadata": {},
   "source": [
    "# panic"
   ]
  },
  {
   "cell_type": "code",
   "execution_count": 20,
   "metadata": {},
   "outputs": [
    {
     "name": "stderr",
     "output_type": "stream",
     "text": [
      "panic: fail!\n",
      "\n",
      "goroutine 21 [running]:\n",
      "runtime/debug.Stack(0xc42030f640, 0x7f3234e1a180, 0x7f320a3cdb30)\n",
      "\t/usr/local/go/src/runtime/debug/stack.go:24 +0xa9\n",
      "main.(*handlers).HandleExecuteRequest.func3.1()\n",
      "\t/go/src/github.com/yunabe/lgo/cmd/lgo-internal/kernel.go:95 +0x70\n",
      "panic(0x7f3234e1a180, 0x7f320a3cdb30)\n",
      "\t/usr/local/go/src/runtime/panic.go:491 +0x294\n",
      "github.com/yunabe/lgo/cmd/runner.loadShared.func1(0xc42030f990)\n",
      "\t/go/src/github.com/yunabe/lgo/cmd/runner/runner.go:34 +0x108\n",
      "panic(0x7f3234e1a180, 0x7f320a3cdb30)\n",
      "\t/usr/local/go/src/runtime/panic.go:491 +0x294\n",
      "github.com/yunabe/lgo/sess7b2274696d65223a313530383037373037363434393635333537387d/exec18.lgo_init()\n",
      "\t/go/src/github.com/yunabe/lgo/sess7b2274696d65223a313530383037373037363434393635333537387d/exec18/src.go:4 +0x3b\n",
      "github.com/yunabe/lgo/cmd/runner.loadSharedInternal(0xc4200925c0, 0x8, 0xc420378d20, 0x59)\n",
      "\t/go/src/github.com/yunabe/lgo/cmd/runner/runner.go:70 +0x2e9\n",
      "github.com/yunabe/lgo/cmd/runner.loadShared(0x7f323533ee40, 0xc4203906c0, 0xc4200925c0, 0x8, 0xc420378d20, 0x59, 0x0)\n",
      "\t/go/src/github.com/yunabe/lgo/cmd/runner/runner.go:37 +0xab\n",
      "github.com/yunabe/lgo/cmd/runner.(*LgoRunner).Run(0xc42032e180, 0x7f323533ee40, 0xc4203906c0, 0xc4206c9d58, 0xe, 0x20, 0xc4206cf918, 0xc42068bcd0)\n",
      "\t/go/src/github.com/yunabe/lgo/cmd/runner/runner.go:166 +0xc41\n",
      "main.(*handlers).HandleExecuteRequest.func3(0xc42030fe00, 0xc420010180, 0x7f323533ee40, 0xc4203906c0, 0xc42000dca0)\n",
      "\t/go/src/github.com/yunabe/lgo/cmd/lgo-internal/kernel.go:99 +0x9b\n",
      "main.(*handlers).HandleExecuteRequest(0xc420010180, 0x7f323533ee40, 0xc4203906c0, 0xc42000dca0, 0xc42000d300, 0xc42000d460, 0xc42000c9a0)\n",
      "\t/go/src/github.com/yunabe/lgo/cmd/lgo-internal/kernel.go:102 +0x39b\n",
      "github.com/yunabe/lgo/jupyter/gojupyterscaffold.(*executeQueue).loop(0xc42032e340)\n",
      "\t/go/src/github.com/yunabe/lgo/jupyter/gojupyterscaffold/execute.go:97 +0x34d\n",
      "github.com/yunabe/lgo/jupyter/gojupyterscaffold.(*Server).Loop.func2(0xc42036e180, 0xc420400240)\n",
      "\t/go/src/github.com/yunabe/lgo/jupyter/gojupyterscaffold/gojupyterscaffold.go:190 +0x31\n",
      "created by github.com/yunabe/lgo/jupyter/gojupyterscaffold.(*Server).Loop\n",
      "\t/go/src/github.com/yunabe/lgo/jupyter/gojupyterscaffold/gojupyterscaffold.go:189 +0xed\n"
     ]
    }
   ],
   "source": [
    "panic(\"fail!\")"
   ]
  },
  {
   "cell_type": "markdown",
   "metadata": {},
   "source": [
    "# reflect\n",
    "`reflect` package works with lgo properly.\n",
    "Note that unexported fields are renamed with `LgoExport_` prefix in lgo."
   ]
  },
  {
   "cell_type": "code",
   "execution_count": 21,
   "metadata": {},
   "outputs": [],
   "source": [
    "import (\n",
    "    \"reflect\"\n",
    ")\n",
    "\n",
    "type person struct {\n",
    "    Name string\n",
    "    Age int\n",
    "    secret string\n",
    "}\n",
    "\n",
    "func (p *person) GetSecret() string {\n",
    "    return p.secret\n",
    "}\n",
    "\n",
    "p := &person{Name:\"Alice\", Age: 12, secret: \"1234\"}"
   ]
  },
  {
   "cell_type": "code",
   "execution_count": 22,
   "metadata": {},
   "outputs": [
    {
     "name": "stdout",
     "output_type": "stream",
     "text": [
      "--- fields ---\n",
      "field[0] = Name\n",
      "field[1] = Age\n",
      "field[2] = LgoExport_secret\n",
      "--- methods ---\n",
      "method[0] = GetSecret\n",
      "------------\n",
      "p == &lgo_exec.LgoExport_person{Name:\"Alice\", Age:34, LgoExport_secret:\"1234\"}\n"
     ]
    }
   ],
   "source": [
    "(func(){\n",
    "    t := reflect.TypeOf(p)\n",
    "    fmt.Println(\"--- fields ---\")\n",
    "    for i := 0; i < t.Elem().NumField(); i++ {\n",
    "        fmt.Printf(\"field[%d] = %s\\n\", i, t.Elem().Field(i).Name)\n",
    "    }\n",
    "    \n",
    "    fmt.Println(\"--- methods ---\")\n",
    "    for i := 0; i < t.NumMethod(); i++ {\n",
    "        fmt.Printf(\"method[%d] = %s\\n\", i, t.Method(i).Name)\n",
    "    }\n",
    "\n",
    "    // Set \"Age\" via reflect.\n",
    "    v := reflect.ValueOf(p)\n",
    "    v.Elem().Field(1).Set(reflect.ValueOf(34))\n",
    "    \n",
    "    fmt.Println(\"------------\")\n",
    "    fmt.Printf(\"p == %#v\\n\", p)\n",
    "})()"
   ]
  }
 ],
 "metadata": {
  "kernelspec": {
   "display_name": "Go (lgo)",
   "language": "go",
   "name": "lgo"
  },
  "language_info": {
   "file_extension": "",
   "mimetype": "",
   "name": "go",
   "version": ""
  }
 },
 "nbformat": 4,
 "nbformat_minor": 2
}
